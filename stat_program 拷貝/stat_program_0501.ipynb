{
 "cells": [
  {
   "cell_type": "code",
   "execution_count": 1,
   "metadata": {},
   "outputs": [],
   "source": [
    "from selenium import webdriver\n",
    "import time\n",
    "import os\n",
    "if os.path.isdir('./csv_data') ==False:\n",
    "    os.mkdir('./csv_data')\n",
    "url = 'https://github.com/JoshXie0809/data_stat_program'"
   ]
  },
  {
   "cell_type": "code",
   "execution_count": 146,
   "metadata": {},
   "outputs": [
    {
     "name": "stdout",
     "output_type": "stream",
     "text": [
      "flower.csv is done.\n",
      "------------------------------\n",
      "pokemon.csv is done.\n",
      "------------------------------\n"
     ]
    }
   ],
   "source": [
    "browser = webdriver.Safari()\n",
    "browser.get(url) \n",
    "try:\n",
    "    elements = browser.find_elements_by_xpath('//*[@id=\"js-repo-pjax-container\"]/div[2]/div/div[4]/table/tbody/tr')\n",
    "except:\n",
    "    None\n",
    "\n",
    "url1s = []\n",
    "\n",
    "for i in elements:\n",
    "    try:\n",
    "        a = i.find_elements_by_partial_link_text('.csv')[0].get_attribute('href')\n",
    "        url1s += [a]\n",
    "    except: None\n",
    "    \n",
    "url2s = []\n",
    "\n",
    "for url1 in url1s:\n",
    "    browser.get(url1) \n",
    "    a = browser.find_elements_by_xpath('//*[@id=\"raw-url\"]')[0].get_attribute('href')\n",
    "    url2s += [a]\n",
    "    browser.get(a) \n",
    "    df = pd.read_csv(a)\n",
    "    \n",
    "    df.to_csv('./csv_data/'+ a.split('/')[-1], index = None)\n",
    "    print( a.split('/')[-1], \"is done.\")\n",
    "    print('-'*30)\n",
    "browser.close()"
   ]
  },
  {
   "cell_type": "code",
   "execution_count": null,
   "metadata": {},
   "outputs": [],
   "source": []
  },
  {
   "cell_type": "code",
   "execution_count": null,
   "metadata": {},
   "outputs": [],
   "source": []
  },
  {
   "cell_type": "code",
   "execution_count": null,
   "metadata": {},
   "outputs": [],
   "source": []
  }
 ],
 "metadata": {
  "hide_input": false,
  "kernelspec": {
   "display_name": "Python 3",
   "language": "python",
   "name": "python3"
  },
  "language_info": {
   "codemirror_mode": {
    "name": "ipython",
    "version": 3
   },
   "file_extension": ".py",
   "mimetype": "text/x-python",
   "name": "python",
   "nbconvert_exporter": "python",
   "pygments_lexer": "ipython3",
   "version": "3.7.3"
  }
 },
 "nbformat": 4,
 "nbformat_minor": 4
}
